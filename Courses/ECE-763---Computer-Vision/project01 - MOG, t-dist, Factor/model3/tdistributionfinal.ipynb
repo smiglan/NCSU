{
  "nbformat": 4,
  "nbformat_minor": 0,
  "metadata": {
    "colab": {
      "name": "tdistributionfinal.ipynb",
      "provenance": [],
      "collapsed_sections": [],
      "toc_visible": true
    },
    "kernelspec": {
      "name": "python3",
      "display_name": "Python 3"
    }
  },
  "cells": [
    {
      "cell_type": "code",
      "metadata": {
        "id": "vg4noPTFAlnx",
        "colab_type": "code",
        "outputId": "be15c9ee-79d8-4c3e-b5fa-627a5eb56c37",
        "colab": {
          "base_uri": "https://localhost:8080/",
          "height": 34
        }
      },
      "source": [
        "from google.colab import drive\n",
        "drive.mount('/content/gdrive', force_remount=True)\n",
        "path = '/content/gdrive/My Drive/ECE763/'\n",
        "import numpy as np\n",
        "import cv2\n",
        "from scipy.stats import multivariate_normal\n",
        "from scipy.special import psi, gammaln\n",
        "from scipy.optimize import fminbound\n",
        "from sklearn.decomposition import PCA\n",
        "import random\n",
        "import matplotlib.pyplot as plt\n",
        "from sklearn.metrics import roc_auc_score\n",
        "from sklearn import metrics\n",
        "from sklearn.preprocessing import StandardScaler\n",
        "\n",
        "np.random.seed(2)\n",
        "facetrain= np.load(path+'MyData4/ftrain.npy')\n",
        "nonfacetrain= np.load(path+'MyData4/nftrain.npy')\n",
        "facetest= np.load(path+'MyData4/ftest.npy')\n",
        "nonfacetest= np.load(path+'MyData4/nftest.npy')\n"
      ],
      "execution_count": 53,
      "outputs": [
        {
          "output_type": "stream",
          "text": [
            "Mounted at /content/gdrive\n"
          ],
          "name": "stdout"
        }
      ]
    },
    {
      "cell_type": "code",
      "metadata": {
        "id": "Vmk6QXwJyfK-",
        "colab_type": "code",
        "colab": {}
      },
      "source": [
        "def apply_pca_and_standardize(data,size):\n",
        "    pca = PCA(n_components=size)\n",
        "    pca.fit(data)\n",
        "    data_pca = pca.transform(data)\n",
        "    scaler = StandardScaler()\n",
        "    scaler.fit(data_pca)\n",
        "    data_std = scaler.transform(data_pca)\n",
        "    return data_std,pca"
      ],
      "execution_count": 0,
      "outputs": []
    },
    {
      "cell_type": "code",
      "metadata": {
        "id": "VE-lrIs7NFd4",
        "colab_type": "code",
        "cellView": "both",
        "colab": {}
      },
      "source": [
        "size = 30\n",
        "# pca_face = PCA(size)\n",
        "facetrain_pca,pcaft = apply_pca_and_standardize(facetrain,size) \n",
        "nonfacetrain_pca,pcanft = apply_pca_and_standardize(nonfacetrain,size) \n",
        "facetest_pca,pcaftest  = apply_pca_and_standardize(facetest,size)\n",
        "nonfacetest_pca,pcaftrain  = apply_pca_and_standardize(nonfacetest,size)"
      ],
      "execution_count": 0,
      "outputs": []
    },
    {
      "cell_type": "code",
      "metadata": {
        "id": "DUPG8i1f5lhf",
        "colab_type": "code",
        "cellView": "both",
        "colab": {}
      },
      "source": [
        "def fit_t_minimize_cost(E_hi, E_log_hi):\n",
        "  a = 0\n",
        "  d = 1000\n",
        "  while True:\n",
        "    third = (d-a)/3        \n",
        "    b = a + third\n",
        "    c = d - third\n",
        "    b_cost = fit_t_cost (b, E_hi, E_log_hi)\n",
        "    c_cost = fit_t_cost (c, E_hi, E_log_hi)\n",
        "    if b_cost < c_cost:            \n",
        "      d=c # The new search range is [a,c].\n",
        "    else:\n",
        "      a=b # The new search range is [b,d].\n",
        "    if d-a < 1:\n",
        "      nu = d # We could have picked a also.\n",
        "        \n",
        "      break\n",
        "  return nu\n",
        "def fit_t_cost (nu, E_hi, E_log_hi):\n",
        "  nu_half = nu / 2\n",
        "  I = E_hi.shape[0]\n",
        "  val = I * (nu_half*np.log(nu_half) + gammaln(nu_half))\n",
        "  val = val - (nu_half-1)*np.sum(E_log_hi)\n",
        "  val = val + nu_half*np.sum(E_hi)\n",
        "  val = -1 * val\n",
        "  return val\n",
        "\n",
        "def fit_t(x,precision):\n",
        "  I = x.shape[0]\n",
        "  dataset_mean = np.sum(x,axis=0) / I\n",
        "  dataset_mean = np.reshape(dataset_mean,(1,dataset_mean.shape[0]))\n",
        "  mu = dataset_mean\n",
        "  D = x.shape[1]\n",
        "  dataset_variance = np.zeros((D, D))\n",
        "  x_minus_dataset_mean = np.subtract(x, dataset_mean)\n",
        "  print(x_minus_dataset_mean.shape)\n",
        "  for i in range(I):\n",
        "    mat = np.array([x_minus_dataset_mean[i,:]])\n",
        "    mat = np.matmul(np.transpose(mat),mat)\n",
        "    dataset_variance= dataset_variance+mat\n",
        "  dataset_variance = dataset_variance/I\n",
        "  sig = dataset_variance\n",
        "\n",
        "  nu = 1000\n",
        "  iterations = 0\n",
        "  previous_L = 1000000\n",
        "  delta = np.zeros([I,1])\n",
        "\n",
        "  while True:\n",
        "    x_minus_mu = np.subtract(x,mu)\n",
        "    temp = np.dot(x_minus_mu,np. linalg. inv(sig))\n",
        "    for i in range(I):\n",
        "      delta[i] = np.matmul(np.array([temp[i,:]]),np.transpose(np.array([x_minus_mu[i,:]])))\n",
        "    nu_plus_delta = nu + delta\n",
        "    E_hi = (nu + D) / nu_plus_delta\n",
        "    E_log_hi = psi((nu+D)/2) - np.log(nu_plus_delta/2)\n",
        "\n",
        "    E_hi_sum = np.sum(E_hi)\n",
        "    E_hi_times_xi = E_hi*x\n",
        "    mu = np.sum(E_hi_times_xi,axis=0)/E_hi_sum\n",
        "    x_minus_mu = np.subtract(x, mu)\n",
        "    sig = np.zeros((D,D))\n",
        "    for i in range(I):\n",
        "      xmm = np.array([x_minus_mu[i,:]])\n",
        "      sig = sig+E_hi[i]*np.transpose(xmm)*xmm\n",
        "    sig = sig/E_hi_sum\n",
        "    nu = fit_t_minimize_cost(E_hi, E_log_hi)\n",
        "\n",
        "\n",
        "    temp = np.matmul(x_minus_mu,np.linalg.inv(sig))\n",
        "    for i in range(I):\n",
        "      delta[i] = np.matmul(np.array([temp[i,:]]),np.transpose(np.array([x_minus_mu[i,:]])))\n",
        "\n",
        "    L = I * (gammaln((nu+D)/2) - (D/2)*np.log(nu*np.pi) - np.log(np.linalg.det(sig))/2 - gammaln(nu/2))\n",
        "    s = sum (np.log(1 + delta/nu)) / 2\n",
        "    L = L - (nu+D)*s\n",
        "    print(L)\n",
        "    iterations = iterations + 1;\n",
        "    print('iternation number:',iterations)       \n",
        "    if np.abs(L - previous_L) < precision:\n",
        "    \tbreak\n",
        "    previous_L = L\n",
        "  return mu,sig,nu"
      ],
      "execution_count": 0,
      "outputs": []
    },
    {
      "cell_type": "code",
      "metadata": {
        "id": "tSd_1BSDNTMC",
        "colab_type": "code",
        "cellView": "both",
        "outputId": "6f396353-bb6c-476d-be7c-32c22fc84fb1",
        "colab": {
          "base_uri": "https://localhost:8080/",
          "height": 252
        }
      },
      "source": [
        "dimm = 20\n",
        "Xf = facetrain_pca\n",
        "precision = 0.001\n",
        "iterations_count = 500\n",
        "af,bf,cf = fit_t(Xf,precision)\n",
        "Xnf = nonfacetrain_pca\n",
        "anf,bnf,cnf = fit_t(Xnf,precision)"
      ],
      "execution_count": 58,
      "outputs": [
        {
          "output_type": "stream",
          "text": [
            "(1000, 30)\n",
            "[-42516.32742555]\n",
            "iternation number: 1\n",
            "[-42516.32715092]\n",
            "iternation number: 2\n",
            "[-42516.32715082]\n",
            "iternation number: 3\n",
            "(1000, 30)\n",
            "[-42476.49197227]\n",
            "iternation number: 1\n",
            "[-42476.49124959]\n",
            "iternation number: 2\n",
            "[-42476.49124929]\n",
            "iternation number: 3\n"
          ],
          "name": "stdout"
        }
      ]
    },
    {
      "cell_type": "code",
      "metadata": {
        "id": "U0_G99RGvxtp",
        "colab_type": "code",
        "cellView": "form",
        "colab": {}
      },
      "source": [
        "#@title\n",
        "# from scipy.stats import gamma\n",
        "# import math \n",
        "\n",
        "# x = np.linspace(-5.0, 5.0, num=1001)\n",
        "# mu = 0\n",
        "# nu = 2\n",
        "# sig = 1\n",
        "# px = math.gamma((nu+1)/2) / (np.sqrt(nu*np.pi*sig) * math.gamma(nu/2))\n",
        "# print(px)"
      ],
      "execution_count": 0,
      "outputs": []
    },
    {
      "cell_type": "code",
      "metadata": {
        "id": "wOkqrEa5NgQv",
        "colab_type": "code",
        "cellView": "both",
        "colab": {}
      },
      "source": [
        "def pdf_tm (x, mu, sig, nu):\n",
        "    (I,D)= np.shape(x)\n",
        "    #    % gammaln is used instead of gamma to avoid overflow.\n",
        "    #    % gamma((nu+D)/2)/gamma(nu/2) == exp(gammaln((nu+D)/2)-gammaln(nu/2)).\n",
        "    c = np.exp(gammaln((nu+D)/2) - gammaln(nu/2));\n",
        "    det = np.prod(np.diag(sig))\n",
        "    c = c / ((nu*np.pi)**(D/2) * np.sqrt(det));\n",
        "    delta = np.zeros([I,1])\n",
        "    x_minus_mu = np.subtract(x, np.reshape(mu,(1,-1)))\n",
        "    temp = np.dot(x_minus_mu,np.linalg.inv(np.diag(np.diag(sig))))\n",
        "    for i in range(I):\n",
        "        delta[i] = np.dot(np.reshape(temp[i,:],(1,-1)),np.transpose(np.reshape(x_minus_mu[i,:],(1,-1))))\n",
        "    px = 1 + (delta / nu);\n",
        "    px = px**((-nu-D) / 2);\n",
        "    px = np.dot(px,c)\n",
        "    return(px)"
      ],
      "execution_count": 0,
      "outputs": []
    },
    {
      "cell_type": "code",
      "metadata": {
        "id": "JUQQoqEHNkdb",
        "colab_type": "code",
        "cellView": "both",
        "outputId": "91e01d58-b1c3-4ae3-e87c-b6496bca7a8b",
        "colab": {
          "base_uri": "https://localhost:8080/",
          "height": 67
        }
      },
      "source": [
        "px_face_pf = pdf_tm(facetest_pca,af,bf,cf)\n",
        "px_nonface_pf = pdf_tm(nonfacetest_pca,af,bf,cf)\n",
        "px_face_pnf = pdf_tm(facetest_pca,anf,bnf,cnf)\n",
        "px_nonface_pnf = pdf_tm(nonfacetest_pca,anf,bnf,cnf)\n",
        "P_face = px_face_pf / (px_face_pf + px_face_pnf)\n",
        "P_nonface = px_nonface_pnf / (px_nonface_pnf + px_nonface_pf)\n",
        "\n",
        "True_positive = np.sum(P_face[:] >= 0.5)\n",
        "False_negative = 100 - True_positive \n",
        "True_negative = np.sum(P_nonface[:] >= 0.5)\n",
        "False_positive = 100 - True_negative\n",
        "\n",
        "fpr =  False_positive/ (False_positive + True_negative)\n",
        "fnr =  False_negative / (False_negative + True_positive)\n",
        "miss = ( False_positive+ False_negative) / 200\n",
        "\n",
        "print('False Positive Rate:',fpr)\n",
        "print('False Negative Rate:',fnr)\n",
        "print('Miss Classification Rate:', miss)"
      ],
      "execution_count": 63,
      "outputs": [
        {
          "output_type": "stream",
          "text": [
            "False Positive Rate: 0.36\n",
            "False Negative Rate: 0.52\n",
            "Miss Classification Rate: 0.44\n"
          ],
          "name": "stdout"
        }
      ]
    },
    {
      "cell_type": "code",
      "metadata": {
        "id": "byxoqjn2N39Q",
        "colab_type": "code",
        "colab": {}
      },
      "source": [
        "labels = np.array([np.ones(100),np.zeros(100)])\n",
        "labels = np.reshape(labels,(200))\n",
        "X_test_roc = np.array([facetest_pca,nonfacetest_pca])\n",
        "X_test_roc = np.reshape(X_test_roc,(200,size))"
      ],
      "execution_count": 0,
      "outputs": []
    },
    {
      "cell_type": "code",
      "metadata": {
        "id": "yz1YsQoGPc7k",
        "colab_type": "code",
        "colab": {}
      },
      "source": [
        "pr1 = pdf_tm(X_test_roc,af,bf,cf)\n",
        "pr2 = pdf_tm(X_test_roc,anf,bnf,cnf)\n",
        "P_Roc = pr1 /(pr1+pr2)\n"
      ],
      "execution_count": 0,
      "outputs": []
    },
    {
      "cell_type": "code",
      "metadata": {
        "id": "FadYajdF5ZaQ",
        "colab_type": "code",
        "outputId": "91588cd2-9fa1-4220-d36e-73f32a01a6eb",
        "colab": {
          "base_uri": "https://localhost:8080/",
          "height": 312
        }
      },
      "source": [
        "\n",
        "fpr, tpr, thresholds = metrics.roc_curve(labels,P_Roc)\n",
        "roc_auc = roc_auc_score(labels,P_Roc)\n",
        "plt.plot(fpr, tpr,color='darkorange',lw=2, label='ROC curve (area = %0.2f)' % roc_auc)\n",
        "plt.plot([0, 1], [0, 1], color='navy', lw=2, linestyle='--')  \n",
        "plt.xlabel('False Positive Rate')\n",
        "plt.ylabel('True Positive Rate')\n",
        "plt.title('Receiver Operating Characteristic for T-Distribution')\n",
        "plt.legend(loc=\"lower right\")"
      ],
      "execution_count": 66,
      "outputs": [
        {
          "output_type": "execute_result",
          "data": {
            "text/plain": [
              "<matplotlib.legend.Legend at 0x7f8601376780>"
            ]
          },
          "metadata": {
            "tags": []
          },
          "execution_count": 66
        },
        {
          "output_type": "display_data",
          "data": {
            "image/png": "[encoded data removed]",
            "text/plain": [
              "<Figure size 432x288 with 1 Axes>"
            ]
          },
          "metadata": {
            "tags": []
          }
        }
      ]
    },
    {
      "cell_type": "code",
      "metadata": {
        "id": "C67M6E9p1flG",
        "colab_type": "code",
        "colab": {
          "base_uri": "https://localhost:8080/",
          "height": 266
        },
        "outputId": "9088b4e3-2342-4e7c-a88a-fe82540a6aef"
      },
      "source": [
        "mean_disp = np.dot( pcaft.components_.T,np.reshape(af,(30))) + pcaft.mean_\n",
        "mean_disp_new = np.array(mean_disp).astype('uint8')\n",
        "mean_disp_new = np.reshape(mean_disp_new,(20,20,3))\n",
        "plt.imshow(mean_disp_new)\n",
        "plt.savefig('mean')\n",
        "covariances = np.diag(np.diag(bf))\n",
        "plt.imshow(covariances)\n",
        "plt.savefig('covariance')"
      ],
      "execution_count": 72,
      "outputs": [
        {
          "output_type": "display_data",
          "data": {
            "image/png": "[encoded data removed]",
            "text/plain": [
              "<Figure size 432x288 with 1 Axes>"
            ]
          },
          "metadata": {
            "tags": []
          }
        }
      ]
    },
    {
      "cell_type": "code",
      "metadata": {
        "id": "qq3Ss8Yv1jZK",
        "colab_type": "code",
        "colab": {
          "base_uri": "https://localhost:8080/",
          "height": 266
        },
        "outputId": "2f89ca2c-58aa-46c7-883b-0e0f1167780a"
      },
      "source": [
        "mean_disp = np.dot( pcanft.components_.T,np.reshape(anf,(30))) + pcanft.mean_\n",
        "mean_disp_new = np.array(mean_disp).astype('uint8')\n",
        "mean_disp_new = np.reshape(mean_disp_new,(20,20,3))\n",
        "plt.imshow(mean_disp_new)\n",
        "plt.savefig('meannf')\n",
        "covariances = np.diag(np.diag(bnf))\n",
        "plt.imshow(covariances)\n",
        "plt.savefig('covariancenf')"
      ],
      "execution_count": 70,
      "outputs": [
        {
          "output_type": "display_data",
          "data": {
            "image/png": "[encoded data removed]",
            "text/plain": [
              "<Figure size 432x288 with 1 Axes>"
            ]
          },
          "metadata": {
            "tags": []
          }
        }
      ]
    },
    {
      "cell_type": "code",
      "metadata": {
        "id": "AK6dJoqcBsFA",
        "colab_type": "code",
        "colab": {}
      },
      "source": [
        "# facetraing = []\n",
        "# nonfacetraing = [] \n",
        "# facetestg = []\n",
        "# nonfacetestg = []\n",
        "# for i in range(1000):\n",
        "#   image = np.reshape(facetrain[i],(20,20,3))\n",
        "#   gray = cv2.cvtColor(image.astype('uint8'), cv2.COLOR_RGB2GRAY)\n",
        "#   facetraing.append(gray)\n",
        "#   image = np.reshape(nonfacetrain[i],(20,20,3))\n",
        "#   gray = cv2.cvtColor(image.astype('uint8'), cv2.COLOR_RGB2GRAY)\n",
        "#   nonfacetraing.append(gray)\n",
        "# for i in range(100):\n",
        "#   image = np.reshape(facetest[i],(20,20,3))\n",
        "#   gray = cv2.cvtColor(image.astype('uint8'), cv2.COLOR_RGB2GRAY)\n",
        "#   facetestg.append(gray)\n",
        "#   image = np.reshape(nonfacetest[i],(20,20,3))\n",
        "#   gray = cv2.cvtColor(image.astype('uint8'), cv2.COLOR_RGB2GRAY)\n",
        "#   nonfacetestg.append(gray)\n",
        "# facetraing = np.array(facetraing)\n",
        "# nonfacetraing = np.array(nonfacetraing)\n",
        "# facetestg = np.array(facetestg)\n",
        "# nonfacetestg = np.array(nonfacetestg)"
      ],
      "execution_count": 0,
      "outputs": []
    },
    {
      "cell_type": "code",
      "metadata": {
        "id": "bHray1NBCQe7",
        "colab_type": "code",
        "colab": {}
      },
      "source": [
        "# path = '/content/gdrive/My Drive/ECE763/'\n",
        "# np.save(path+'MyData4/ftraing',np.reshape(facetraing,(1000,400)))\n",
        "# np.save(path+'MyData4/nftraing',np.reshape(nonfacetraing,(1000,400)))\n"
      ],
      "execution_count": 0,
      "outputs": []
    }
  ]
}