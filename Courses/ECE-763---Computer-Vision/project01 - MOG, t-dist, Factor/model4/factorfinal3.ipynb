{
  "nbformat": 4,
  "nbformat_minor": 0,
  "metadata": {
    "colab": {
      "name": "factorfinal3.ipynb",
      "provenance": []
    },
    "kernelspec": {
      "name": "python3",
      "display_name": "Python 3"
    }
  },
  "cells": [
    {
      "cell_type": "code",
      "metadata": {
        "id": "vg4noPTFAlnx",
        "colab_type": "code",
        "outputId": "49537f80-3459-4688-80ae-dfe5e3b53ac6",
        "colab": {
          "base_uri": "https://localhost:8080/",
          "height": 121
        }
      },
      "source": [
        "from google.colab import drive\n",
        "drive.mount('/content/gdrive', force_remount=True)\n",
        "path = '/content/gdrive/My Drive/ECE763/'\n",
        "import numpy as np\n",
        "import cv2\n",
        "from scipy.stats import multivariate_normal\n",
        "from scipy.special import psi, gammaln\n",
        "from scipy.optimize import fminbound\n",
        "import matplotlib.pyplot as plt\n",
        "from sklearn.metrics import roc_auc_score\n",
        "from sklearn import metrics\n",
        "from sklearn.preprocessing import StandardScaler\n",
        "\n",
        "import random\n",
        "np.random.seed(2)\n",
        "facetrain= np.load(path+'MyData4/ftrain.npy')\n",
        "nonfacetrain= np.load(path+'MyData4/nftrain.npy')\n",
        "facetest= np.load(path+'MyData4/ftest.npy')\n",
        "nonfacetest= np.load(path+'MyData4/nftest.npy')"
      ],
      "execution_count": 1,
      "outputs": [
        {
          "output_type": "stream",
          "text": [
            "Go to this URL in a browser: https://accounts.google.com/o/oauth2/auth?client_id=947318989803-6bn6qk8qdgf4n4g3pfee6491hc0brc4i.apps.googleusercontent.com&redirect_uri=urn%3aietf%3awg%3aoauth%3a2.0%3aoob&response_type=code&scope=email%20https%3a%2f%2fwww.googleapis.com%2fauth%2fdocs.test%20https%3a%2f%2fwww.googleapis.com%2fauth%2fdrive%20https%3a%2f%2fwww.googleapis.com%2fauth%2fdrive.photos.readonly%20https%3a%2f%2fwww.googleapis.com%2fauth%2fpeopleapi.readonly\n",
            "\n",
            "Enter your authorization code:\n",
            "··········\n",
            "Mounted at /content/gdrive\n"
          ],
          "name": "stdout"
        }
      ]
    },
    {
      "cell_type": "code",
      "metadata": {
        "id": "VE-lrIs7NFd4",
        "colab_type": "code",
        "cellView": "both",
        "colab": {}
      },
      "source": [
        "def fit_fa(X,K,iterations):\n",
        "  I = X.shape[0]\n",
        "  D = X.shape[1]\n",
        "  mu = np.sum(X,axis=0)/I\n",
        "  phi = np.random.rand(D,K)\n",
        "\n",
        "  x_minus_mu = np.subtract(X, mu)\n",
        "  sig = np.sum (np.square(x_minus_mu), axis=0) / I\n",
        "\n",
        "\n",
        "  iterations_count = 0\n",
        "  while iterations_count != iterations:\n",
        "    if iterations_count != 0 :\n",
        "      inv_sig = np.diag(1/np.reshape(sig,D)) \n",
        "    else:\n",
        "      inv_sig = np.diag(1 / sig)\n",
        "    phi_transpose_times_sig_inv = np.matmul(np.transpose(phi), inv_sig)\n",
        "    temp = np.linalg.inv(np.matmul(phi_transpose_times_sig_inv,phi) + np.eye(K))\n",
        "    E_hi = np.matmul(np.matmul(temp,phi_transpose_times_sig_inv), np.transpose(x_minus_mu))\n",
        "    E_hi_hitr = []\n",
        "    for i in range(I):\n",
        "      e = np.transpose(np.array([E_hi[:,i]]))\n",
        "      E_hi_hitr.append(temp + np.matmul(e,np.transpose(e)))\n",
        "    E_hi_hitr = np.array([E_hi_hitr])\n",
        "\n",
        "    phi_1 = np.zeros((D,K))\n",
        "    for i in range(I):\n",
        "      phi_1 = phi_1 + np.matmul(np.transpose(np.array([x_minus_mu[i,:]])),np.array([E_hi[:,i]]))\n",
        "    phi_2 = np.zeros((K,K))\n",
        "    for i in range(I):\n",
        "      phi_2 = phi_2 + E_hi_hitr[0][i]\n",
        "    phi_2 = np.linalg.inv(phi_2)\n",
        "    phi = np.matmul(phi_1 , phi_2)\n",
        "\n",
        "    sig_diag = np.zeros([D,1])\n",
        "    for i in range(I):\n",
        "      xm = np.transpose(np.array([x_minus_mu[i,:]]))\n",
        "      sig_1 = np.multiply(xm,xm)\n",
        "      sig_2 = np.multiply(np.matmul(phi,np.transpose(np.array([E_hi[:,i]]))), xm)\n",
        "      sig_diag = sig_diag + sig_1 - sig_2\n",
        "    sig = sig_diag/I\n",
        "\n",
        "    iterations_count = iterations_count + 1;       \n",
        "    print('Iteration number: ',iterations_count)\n",
        "  return mu,phi,sig"
      ],
      "execution_count": 0,
      "outputs": []
    },
    {
      "cell_type": "code",
      "metadata": {
        "id": "tSd_1BSDNTMC",
        "colab_type": "code",
        "cellView": "both",
        "outputId": "a34c50bc-5ec7-4a65-c3d2-15b8d39d184c",
        "colab": {
          "base_uri": "https://localhost:8080/",
          "height": 450
        }
      },
      "source": [
        "dimm = 20\n",
        "Xf = facetrain\n",
        "K = 2\n",
        "iterations = 10\n",
        "af,bf,cf = fit_fa(Xf,K,iterations)\n",
        "\n",
        "mean = 255*af / max(af)\n",
        "mu_mat = np.reshape(mean,(dimm,dimm,3))\n",
        "mu_mat1 = cv2.cvtColor(mu_mat.astype('uint8'), cv2.COLOR_BGR2RGB)\n",
        "import matplotlib.pyplot as plt\n",
        "grayImage = cv2.cvtColor(mu_mat1.astype('uint8'), cv2.COLOR_RGB2GRAY)\n",
        "plt.imshow(grayImage,cmap=\"gray\")"
      ],
      "execution_count": 5,
      "outputs": [
        {
          "output_type": "stream",
          "text": [
            "Iteration number:  1\n",
            "Iteration number:  2\n",
            "Iteration number:  3\n",
            "Iteration number:  4\n",
            "Iteration number:  5\n",
            "Iteration number:  6\n",
            "Iteration number:  7\n",
            "Iteration number:  8\n",
            "Iteration number:  9\n",
            "Iteration number:  10\n"
          ],
          "name": "stdout"
        },
        {
          "output_type": "execute_result",
          "data": {
            "text/plain": [
              "<matplotlib.image.AxesImage at 0x7f2e1ad162b0>"
            ]
          },
          "metadata": {
            "tags": []
          },
          "execution_count": 5
        },
        {
          "output_type": "display_data",
          "data": {
            "image/png": "[encoded data removed]",
            "text/plain": [
              "<Figure size 432x288 with 1 Axes>"
            ]
          },
          "metadata": {
            "tags": []
          }
        }
      ]
    },
    {
      "cell_type": "code",
      "metadata": {
        "id": "Gy4bWcAKNi9l",
        "colab_type": "code",
        "cellView": "both",
        "outputId": "3ea2b709-97ca-410d-cdf5-3bc20bb28155",
        "colab": {
          "base_uri": "https://localhost:8080/",
          "height": 282
        }
      },
      "source": [
        "sig = 255*cf / np.max(cf)\n",
        "mu_sig = np.reshape(sig,(dimm,dimm,3))\n",
        "mu_sig1 = cv2.cvtColor(mu_sig.astype('uint8'), cv2.COLOR_BGR2RGB)\n",
        "\n",
        "import matplotlib.pyplot as plt\n",
        "grayImagesig = cv2.cvtColor(mu_sig1.astype('uint8'), cv2.COLOR_RGB2GRAY)\n",
        "plt.imshow(grayImagesig,cmap=\"gray\")"
      ],
      "execution_count": 6,
      "outputs": [
        {
          "output_type": "execute_result",
          "data": {
            "text/plain": [
              "<matplotlib.image.AxesImage at 0x7f2e1a853cf8>"
            ]
          },
          "metadata": {
            "tags": []
          },
          "execution_count": 6
        },
        {
          "output_type": "display_data",
          "data": {
            "image/png": "[encoded data removed]",
            "text/plain": [
              "<Figure size 432x288 with 1 Axes>"
            ]
          },
          "metadata": {
            "tags": []
          }
        }
      ]
    },
    {
      "cell_type": "code",
      "metadata": {
        "id": "wOkqrEa5NgQv",
        "colab_type": "code",
        "cellView": "both",
        "outputId": "23457d7c-ff78-4795-d380-55db4ea3d103",
        "colab": {
          "base_uri": "https://localhost:8080/",
          "height": 450
        }
      },
      "source": [
        "Xnf = nonfacetrain\n",
        "anf,bnf,cnf = fit_fa(Xnf,K,iterations)\n",
        "mean = 255*anf / max(anf)\n",
        "mu_mat = np.reshape(mean,(dimm,dimm,3))\n",
        "mu_mat1 = cv2.cvtColor(mu_mat.astype('uint8'), cv2.COLOR_BGR2RGB)\n",
        "import matplotlib.pyplot as plt\n",
        "grayImage = cv2.cvtColor(mu_mat1.astype('uint8'), cv2.COLOR_RGB2GRAY)\n",
        "plt.imshow(grayImage,cmap=\"gray\")\n",
        "\n"
      ],
      "execution_count": 7,
      "outputs": [
        {
          "output_type": "stream",
          "text": [
            "Iteration number:  1\n",
            "Iteration number:  2\n",
            "Iteration number:  3\n",
            "Iteration number:  4\n",
            "Iteration number:  5\n",
            "Iteration number:  6\n",
            "Iteration number:  7\n",
            "Iteration number:  8\n",
            "Iteration number:  9\n",
            "Iteration number:  10\n"
          ],
          "name": "stdout"
        },
        {
          "output_type": "execute_result",
          "data": {
            "text/plain": [
              "<matplotlib.image.AxesImage at 0x7f2e1a7ad710>"
            ]
          },
          "metadata": {
            "tags": []
          },
          "execution_count": 7
        },
        {
          "output_type": "display_data",
          "data": {
            "image/png": "[encoded data removed]",
            "text/plain": [
              "<Figure size 432x288 with 1 Axes>"
            ]
          },
          "metadata": {
            "tags": []
          }
        }
      ]
    },
    {
      "cell_type": "code",
      "metadata": {
        "id": "JUQQoqEHNkdb",
        "colab_type": "code",
        "cellView": "both",
        "outputId": "a2051be6-5a2f-4a93-80f6-bc713805d023",
        "colab": {
          "base_uri": "https://localhost:8080/",
          "height": 282
        }
      },
      "source": [
        "sig = 255*cnf / np.max(cnf)\n",
        "mu_sig = np.reshape(sig,(20,20,3))\n",
        "mu_sig1 = cv2.cvtColor(mu_sig.astype('uint8'), cv2.COLOR_BGR2RGB)\n",
        "\n",
        "import matplotlib.pyplot as plt\n",
        "grayImagesig = cv2.cvtColor(mu_sig1.astype('uint8'), cv2.COLOR_RGB2GRAY)\n",
        "plt.imshow(grayImagesig,cmap=\"gray\")"
      ],
      "execution_count": 8,
      "outputs": [
        {
          "output_type": "execute_result",
          "data": {
            "text/plain": [
              "<matplotlib.image.AxesImage at 0x7f2e1a78a630>"
            ]
          },
          "metadata": {
            "tags": []
          },
          "execution_count": 8
        },
        {
          "output_type": "display_data",
          "data": {
            "image/png": "[encoded data removed]",
            "text/plain": [
              "<Figure size 432x288 with 1 Axes>"
            ]
          },
          "metadata": {
            "tags": []
          }
        }
      ]
    },
    {
      "cell_type": "code",
      "metadata": {
        "id": "byxoqjn2N39Q",
        "colab_type": "code",
        "colab": {}
      },
      "source": [
        "var_face = np.dot(bf,np.transpose(bf)) + np.diag(cf)\n",
        "var_face_nf = np.dot(bnf,np.transpose(bnf)) + np.diag(cnf)"
      ],
      "execution_count": 0,
      "outputs": []
    },
    {
      "cell_type": "code",
      "metadata": {
        "id": "yz1YsQoGPc7k",
        "colab_type": "code",
        "colab": {}
      },
      "source": [
        "Xf_test = facetest\n",
        "Xnf_test = nonfacetest\n",
        "I,D = Xf.shape\n"
      ],
      "execution_count": 0,
      "outputs": []
    },
    {
      "cell_type": "code",
      "metadata": {
        "id": "A1ZJ7r2JPY-c",
        "colab_type": "code",
        "colab": {}
      },
      "source": [
        "def prob():\n",
        "  px_face_pf = multivariate_normal.pdf(Xf_test, af.reshape((D,)), cov=var_face,allow_singular=True)\n",
        "  px_face_pnf = multivariate_normal.pdf(Xf_test, anf.reshape((D,)), cov=var_face_nf,allow_singular=True)\n",
        "  total = px_face_pf + px_face_pnf\n",
        "  Prob_face = px_face_pf / total\n",
        "\n",
        "  px_nonface_pf = multivariate_normal.pdf(Xnf_test, af.reshape((D,)), cov=var_face,allow_singular=True)\n",
        "  px_nonface_pnf = multivariate_normal.pdf(Xnf_test, anf.reshape((D,)), cov=var_face_nf,allow_singular=True)\n",
        "  total = px_nonface_pf + px_nonface_pnf\n",
        "  Prob_nonface = px_nonface_pnf/ total\n",
        "  return Prob_face,Prob_nonface\n",
        "\n"
      ],
      "execution_count": 0,
      "outputs": []
    },
    {
      "cell_type": "code",
      "metadata": {
        "id": "fwMYlAwoRQF7",
        "colab_type": "code",
        "outputId": "25adbcae-44ad-490c-c2d6-3e82cf6d0b97",
        "colab": {
          "base_uri": "https://localhost:8080/",
          "height": 67
        }
      },
      "source": [
        "P_face,P_nonface = prob()\n",
        "True_positive = np.sum(P_face[:] >= 0.5)\n",
        "False_negative = 100 - True_positive \n",
        "True_negative = np.sum(P_nonface[:] >= 0.5)\n",
        "False_positive = 100 - True_negative\n",
        "\n",
        "fpr =  False_positive/ (False_positive + True_negative)\n",
        "fnr =  False_negative / (False_negative + True_positive)\n",
        "miss = ( False_positive+ False_negative) / 200\n",
        "\n",
        "print('False Positive Rate:',fpr)\n",
        "print('False Negative Rate:',fnr)\n",
        "print('Miss Classification Rate:', miss)"
      ],
      "execution_count": 12,
      "outputs": [
        {
          "output_type": "stream",
          "text": [
            "False Positive Rate: 0.46\n",
            "False Negative Rate: 0.24\n",
            "Miss Classification Rate: 0.35\n"
          ],
          "name": "stdout"
        }
      ]
    },
    {
      "cell_type": "code",
      "metadata": {
        "id": "Ba34PiuJi1gu",
        "colab_type": "code",
        "colab": {}
      },
      "source": [
        "labels = np.array([np.ones(100),np.zeros(100)])\n",
        "labels = np.reshape(labels,(200))\n",
        "X_test_roc = np.array([facetest,nonfacetest])\n",
        "X_test_roc = np.reshape(X_test_roc,(200,1200))"
      ],
      "execution_count": 0,
      "outputs": []
    },
    {
      "cell_type": "code",
      "metadata": {
        "id": "qiQaXLOhRUXk",
        "colab_type": "code",
        "colab": {}
      },
      "source": [
        "row,col = X_test_roc.shape\n",
        "prob_fpf_Roc = multivariate_normal.pdf(X_test_roc, af.reshape((col,)), cov=var_face,allow_singular=True)\n",
        "prob_fnpf_Roc = multivariate_normal.pdf(X_test_roc, anf.reshape((col,)), cov=var_face_nf,allow_singular=True)\n",
        "total_Roc = prob_fpf_Roc + prob_fnpf_Roc\n",
        "P_Roc = prob_fpf_Roc / total_Roc\n"
      ],
      "execution_count": 0,
      "outputs": []
    },
    {
      "cell_type": "code",
      "metadata": {
        "id": "FqzHGJvammi5",
        "colab_type": "code",
        "outputId": "a9f4ec67-0bab-41e8-8426-f96e14f84eef",
        "colab": {
          "base_uri": "https://localhost:8080/",
          "height": 312
        }
      },
      "source": [
        "fpr, tpr, thresholds = metrics.roc_curve(labels,P_Roc)\n",
        "roc_auc = roc_auc_score(labels,P_Roc)\n",
        "# Plot ROC curve\n",
        "plt.plot(fpr, tpr,color='darkorange',lw=2, label='ROC curve (area = %0.2f)' % roc_auc)\n",
        "plt.plot([0, 1], [0, 1], color='navy', lw=2, linestyle='--')  \n",
        "\n",
        "plt.xlabel('False Positive Rate or (1 - Specifity)')\n",
        "plt.ylabel('True Positive Rate or (Sensitivity)')\n",
        "plt.title('ROC for Factor Analysis')\n",
        "plt.legend(loc=\"lower right\")"
      ],
      "execution_count": 15,
      "outputs": [
        {
          "output_type": "execute_result",
          "data": {
            "text/plain": [
              "<matplotlib.legend.Legend at 0x7f2e1a7064e0>"
            ]
          },
          "metadata": {
            "tags": []
          },
          "execution_count": 15
        },
        {
          "output_type": "display_data",
          "data": {
            "image/png": "[encoded data removed]",
            "text/plain": [
              "<Figure size 432x288 with 1 Axes>"
            ]
          },
          "metadata": {
            "tags": []
          }
        }
      ]
    },
    {
      "cell_type": "code",
      "metadata": {
        "id": "9MRiDSfHndJd",
        "colab_type": "code",
        "colab": {}
      },
      "source": [
        ""
      ],
      "execution_count": 0,
      "outputs": []
    }
  ]
}