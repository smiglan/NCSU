{
  "nbformat": 4,
  "nbformat_minor": 0,
  "metadata": {
    "colab": {
      "name": "mogfinal.ipynb",
      "provenance": []
    },
    "kernelspec": {
      "name": "python3",
      "display_name": "Python 3"
    }
  },
  "cells": [
    {
      "cell_type": "code",
      "metadata": {
        "id": "vg4noPTFAlnx",
        "colab_type": "code",
        "outputId": "68ce8516-fa37-4912-bfd8-89466d72d0fc",
        "colab": {
          "base_uri": "https://localhost:8080/",
          "height": 34
        }
      },
      "source": [
        "from google.colab import drive\n",
        "drive.mount('/content/gdrive', force_remount=True)\n",
        "path = '/content/gdrive/My Drive/ECE763/'\n",
        "import numpy as np\n",
        "import cv2\n",
        "from scipy.stats import multivariate_normal\n",
        "from scipy.special import psi, gammaln\n",
        "from scipy.optimize import fminbound\n",
        "from sklearn.decomposition import PCA\n",
        "import matplotlib.pyplot as plt\n",
        "from sklearn.metrics import roc_auc_score\n",
        "from sklearn import metrics\n",
        "import random\n",
        "from sklearn.preprocessing import StandardScaler\n",
        "from numpy import matlib\n",
        "\n",
        "\n",
        "np.random.seed(2)\n",
        "facetrain= np.load(path+'MyData4/ftrain.npy')\n",
        "nonfacetrain= np.load(path+'MyData4/nftrain.npy')\n",
        "facetest= np.load(path+'MyData4/ftest.npy')\n",
        "nonfacetest= np.load(path+'MyData4/nftest.npy')\n"
      ],
      "execution_count": 146,
      "outputs": [
        {
          "output_type": "stream",
          "text": [
            "Mounted at /content/gdrive\n"
          ],
          "name": "stdout"
        }
      ]
    },
    {
      "cell_type": "code",
      "metadata": {
        "id": "koba6GNXNGth",
        "colab_type": "code",
        "colab": {}
      },
      "source": [
        "def apply_pca_and_standardize(data,size):\n",
        "    pca = PCA(n_components=size)\n",
        "    pca.fit(data)\n",
        "    data_pca = pca.transform(data)\n",
        "    scaler = StandardScaler()\n",
        "    scaler.fit(data_pca)\n",
        "    data_std = scaler.transform(data_pca)\n",
        "    return data_std,pca"
      ],
      "execution_count": 0,
      "outputs": []
    },
    {
      "cell_type": "code",
      "metadata": {
        "id": "VE-lrIs7NFd4",
        "colab_type": "code",
        "cellView": "both",
        "colab": {}
      },
      "source": [
        "size = 30\n",
        "# pca_face = PCA(size)\n",
        "facetrain_pca,pcaft = apply_pca_and_standardize(facetrain,size) \n",
        "nonfacetrain_pca,pcanft = apply_pca_and_standardize(nonfacetrain,size) \n",
        "facetest_pca,pcaftest  = apply_pca_and_standardize(facetest,size)\n",
        "nonfacetest_pca,pcaftrain  = apply_pca_and_standardize(nonfacetest,size)"
      ],
      "execution_count": 0,
      "outputs": []
    },
    {
      "cell_type": "code",
      "metadata": {
        "id": "DUPG8i1f5lhf",
        "colab_type": "code",
        "cellView": "both",
        "colab": {}
      },
      "source": [
        "def fit_mog(x,K,precision):\n",
        "  lbda = 1/K*np.ones(K).transpose()\n",
        "  lbda = np.reshape(lbda,(K,1))\n",
        "  I = x.shape[0]\n",
        "  K_random_unique_integers = np.random.permutation(I)[0:K]\n",
        "  mu = x[K_random_unique_integers,:]\n",
        "  dimensionality = x.shape[1]\n",
        "  dataset_mean = np.sum(x,axis=0) / I\n",
        "  dataset_mean = np.reshape(dataset_mean,(1,dataset_mean.shape[0]))\n",
        "  dataset_variance = np.zeros((dimensionality, dimensionality))\n",
        "\n",
        "  for i in range(I):\n",
        "    mat = x[i,:]-dataset_mean\n",
        "    mat = np.matmul(np.transpose(mat),mat)\n",
        "    dataset_variance= dataset_variance+mat\n",
        "  dataset_variance = dataset_variance/I\n",
        "\n",
        "  sig = []\n",
        "  for i in range(K):\n",
        "    sig.append(dataset_variance)\n",
        "  sig = np.array(sig)\n",
        "\n",
        "\n",
        "  iterations = 0   \n",
        "  previous_L = 1000000\n",
        "  while True:\n",
        "    l = np.zeros ((I,K))\n",
        "    r = np.zeros ((I,K))\n",
        "    for k in range(K):\n",
        "        l[:,k] = lbda[k] * multivariate_normal.pdf(x, mu[k,:], sig[k],allow_singular=True)\n",
        "\n",
        "\n",
        "    s = np.sum(l,axis=1)\n",
        "    for i in range(I):\n",
        "      r[i,:] = l[i,:] / s[i];\n",
        "\n",
        "    r_summed_rows = np.sum(r,axis=0)\n",
        "    r_summed_all = np.sum(r_summed_rows,axis=0)\n",
        "\n",
        "    for k in range(K):\n",
        "      lbda[k] = r_summed_rows[k] / r_summed_all\n",
        "      new_mu = np.zeros((1,dimensionality))\n",
        "      for i in range(I):\n",
        "          new_mu = new_mu + r[i,k]*x[i,:]\n",
        "      mu[k,:] = new_mu/r_summed_rows[k]\n",
        "      new_sigma = np.zeros((dimensionality,dimensionality))\n",
        "      for i in range(I):\n",
        "          mat = x[i,:] - mu[k,:]\n",
        "          mat = np.reshape(mat,(1,mat.shape[0]))\n",
        "          mat = r[i,k]*np.matmul(np.transpose(mat),mat)\n",
        "          new_sigma = new_sigma + mat\n",
        "      sig[k] = new_sigma/ r_summed_rows[k]\n",
        "\n",
        "    temp = np.zeros((I,K));\n",
        "    for k in range(K):\n",
        "        temp[:,k] = lbda[k] * multivariate_normal.pdf(x, mu[k,:], sig[k],allow_singular=True)\n",
        "    temp = np.sum(temp,axis=1)\n",
        "    temp = np.log(temp)      \n",
        "    L = sum(temp)\n",
        "    #print('Log-Likelihood: ', L)\n",
        "\n",
        "    iterations = iterations + 1      \n",
        "    #print('Iteration number: ',iterations)\n",
        "    print(np.abs(L - previous_L))\n",
        "    if np.abs(L - previous_L) < precision:\n",
        "        break\n",
        "    previous_L = L\n",
        "  return lbda,mu,sig\n",
        "\n"
      ],
      "execution_count": 0,
      "outputs": []
    },
    {
      "cell_type": "code",
      "metadata": {
        "id": "tSd_1BSDNTMC",
        "colab_type": "code",
        "cellView": "both",
        "outputId": "a856cb18-59d2-4a23-e964-eddd60eeeb85",
        "colab": {
          "base_uri": "https://localhost:8080/",
          "height": 1000
        }
      },
      "source": [
        "dimm = 20\n",
        "Xf = facetrain_pca\n",
        "precision = 0.01\n",
        "K = 3\n",
        "af,bf,cf = fit_mog(Xf,K,precision)\n",
        "Xnf = nonfacetrain_pca\n",
        "anf,bnf,cnf = fit_mog(Xnf,K,precision)\n"
      ],
      "execution_count": 150,
      "outputs": [
        {
          "output_type": "stream",
          "text": [
            "1 : -42569.40642512214\n",
            "2 : -42569.319051461454\n",
            "3 : -42565.12575844783\n",
            "4 : -42358.9508210107\n",
            "5 : -40568.02429923517\n",
            "6 : -39959.75460313396\n",
            "7 : -39758.063726546905\n",
            "8 : -39612.02507632482\n",
            "9 : -39493.28188543438\n",
            "10 : -39409.19117884658\n",
            "11 : -39357.531816219765\n",
            "12 : -39321.65168774703\n",
            "13 : -39287.734339690964\n",
            "14 : -39258.81933480935\n",
            "15 : -39240.25564881998\n",
            "16 : -39226.17917696317\n",
            "17 : -39214.476680139254\n",
            "18 : -39204.97507278978\n",
            "19 : -39196.294687897076\n",
            "20 : -39190.594851561895\n",
            "21 : -39187.75322374472\n",
            "22 : -39185.556427656884\n",
            "23 : -39183.76937834048\n",
            "24 : -39182.2295511751\n",
            "25 : -39180.750257848325\n",
            "26 : -39179.11977198533\n",
            "27 : -39177.06446380321\n",
            "28 : -39174.311784907135\n",
            "29 : -39170.932332496726\n",
            "30 : -39167.54026471856\n",
            "31 : -39164.72384085797\n",
            "32 : -39162.58693879599\n",
            "33 : -39161.02275291944\n",
            "34 : -39159.88329732304\n",
            "35 : -39158.94922657241\n",
            "36 : -39158.114253700674\n",
            "37 : -39157.33926457443\n",
            "38 : -39156.587302667234\n",
            "39 : -39155.82849813123\n",
            "40 : -39155.0394647186\n",
            "41 : -39154.172175438194\n",
            "42 : -39153.17083941339\n",
            "43 : -39152.048312295396\n",
            "44 : -39150.94369181796\n",
            "45 : -39149.9685576657\n",
            "46 : -39149.09039079881\n",
            "47 : -39148.23694141024\n",
            "48 : -39147.35207345371\n",
            "49 : -39146.40209480069\n",
            "50 : -39145.3478621971\n",
            "51 : -39144.09367024724\n",
            "52 : -39142.46515259173\n",
            "53 : -39140.35874338518\n",
            "54 : -39137.99415799969\n",
            "55 : -39135.72453933658\n",
            "56 : -39134.051429005645\n",
            "57 : -39133.100475903644\n",
            "58 : -39132.506543417374\n",
            "59 : -39132.064089491105\n",
            "60 : -39131.6865103919\n",
            "61 : -39131.3435813103\n",
            "62 : -39131.040276689295\n",
            "63 : -39130.78684920208\n",
            "64 : -39130.575220309314\n",
            "65 : -39130.39023490845\n",
            "66 : -39130.219558899465\n",
            "67 : -39130.053875572485\n",
            "68 : -39129.88694261642\n",
            "69 : -39129.71715010656\n",
            "70 : -39129.549629597845\n",
            "71 : -39129.39597500158\n",
            "72 : -39129.26838087006\n",
            "73 : -39129.17180172396\n",
            "74 : -39129.10266701711\n",
            "75 : -39129.05381806633\n",
            "76 : -39129.01877234415\n",
            "77 : -39128.99298435694\n",
            "78 : -39128.9735470134\n",
            "79 : -39128.958618351426\n",
            "80 : -39128.946994630176\n",
            "81 : -39128.93785465831\n",
            "1 : -42569.405311573864\n",
            "2 : -42569.271889593474\n",
            "3 : -42565.479144421945\n",
            "4 : -42475.887461226\n",
            "5 : -41879.03658123924\n",
            "6 : -41502.63121098772\n",
            "7 : -41413.45033543192\n",
            "8 : -41369.456987717\n",
            "9 : -41345.83663075979\n",
            "10 : -41331.144449063366\n",
            "11 : -41320.92801932844\n",
            "12 : -41313.56677287179\n",
            "13 : -41308.202615973205\n",
            "14 : -41304.22382205331\n",
            "15 : -41301.21830827628\n",
            "16 : -41298.93288280789\n",
            "17 : -41297.20996897164\n",
            "18 : -41295.93019121899\n",
            "19 : -41294.98639616628\n",
            "20 : -41294.285331342224\n",
            "21 : -41293.75423216234\n",
            "22 : -41293.34119354286\n",
            "23 : -41293.01104162995\n",
            "24 : -41292.74041826076\n",
            "25 : -41292.513792705155\n",
            "26 : -41292.32067362836\n",
            "27 : -41292.1537907466\n",
            "28 : -41292.00794759624\n",
            "29 : -41291.87930700953\n",
            "30 : -41291.76494573663\n",
            "31 : -41291.66257366064\n",
            "32 : -41291.570353238974\n",
            "33 : -41291.48678032216\n",
            "34 : -41291.41060309386\n",
            "35 : -41291.34076520634\n",
            "36 : -41291.27636471798\n",
            "37 : -41291.216623718195\n",
            "38 : -41291.16086548571\n",
            "39 : -41291.10849721396\n",
            "40 : -41291.05899707254\n",
            "41 : -41291.01190483118\n",
            "42 : -41290.96681555073\n",
            "43 : -41290.923375987244\n",
            "44 : -41290.88128337872\n",
            "45 : -41290.84028619437\n",
            "46 : -41290.80018623437\n",
            "47 : -41290.760841212046\n",
            "48 : -41290.72216670266\n",
            "49 : -41290.684136219\n",
            "50 : -41290.646778289054\n",
            "51 : -41290.6101698405\n",
            "52 : -41290.574425900566\n",
            "53 : -41290.53968643109\n",
            "54 : -41290.506101789586\n",
            "55 : -41290.47381861278\n",
            "56 : -41290.442967772586\n",
            "57 : -41290.41365553721\n",
            "58 : -41290.38595838369\n",
            "59 : -41290.359921271054\n",
            "60 : -41290.335558740524\n",
            "61 : -41290.31285800683\n",
            "62 : -41290.29178320642\n",
            "63 : -41290.2722800981\n",
            "64 : -41290.25428069769\n",
            "65 : -41290.23770751312\n",
            "66 : -41290.22247720229\n",
            "67 : -41290.20850359072\n",
            "68 : -41290.19570006206\n",
            "69 : -41290.183981378825\n",
            "70 : -41290.17326501122\n",
            "71 : -41290.16347205821\n"
          ],
          "name": "stdout"
        }
      ]
    },
    {
      "cell_type": "code",
      "metadata": {
        "id": "G-JC9C28mrhn",
        "colab_type": "code",
        "colab": {}
      },
      "source": [
        "mu_face    = facetrain_pca.mean(axis=0)\n",
        "mu_nonface = nonfacetrain_pca.mean(axis=0)\n",
        "var_face = np.cov(facetrain_pca, rowvar=False, bias=1, ddof=None)\n",
        "var_face = np.diagonal(var_face)\n",
        "var_face = np.diag(var_face,0)\n",
        "var_nonface = np.cov(nonfacetrain_pca, rowvar=False, bias=1, ddof=None)\n",
        "var_nonface = np.diagonal(var_nonface)\n",
        "var_nonface = np.diag(var_nonface,0)"
      ],
      "execution_count": 0,
      "outputs": []
    },
    {
      "cell_type": "code",
      "metadata": {
        "id": "_xPb2Qk-664L",
        "colab_type": "code",
        "colab": {}
      },
      "source": [
        "Prn2 = np.zeros([100,1])\n",
        "prob_fpf = np.zeros([100,1])\n",
        "for k in range(K):\n",
        "    Prn2 = multivariate_normal.pdf(facetest_pca, bf[k,:], cf[k],allow_singular=True)\n",
        "    Prn2 = np.reshape(Prn2,(-1,1))\n",
        "    prob_fpf = prob_fpf + (af[k] * Prn2)\n",
        "prob_fpnf = multivariate_normal.pdf(facetest_pca, mean= mu_nonface, cov=var_nonface)\n",
        "P_face = prob_fpf / (prob_fpf+ np.reshape(prob_fpnf,(100,1)))\n",
        "True_positive = np.sum(P_face[:] >= 0.5)\n",
        "False_negative = 100 - True_positive"
      ],
      "execution_count": 0,
      "outputs": []
    },
    {
      "cell_type": "code",
      "metadata": {
        "id": "JUQQoqEHNkdb",
        "colab_type": "code",
        "cellView": "both",
        "outputId": "e46c93ec-e702-4390-abfa-ee42ce6ffd4e",
        "colab": {
          "base_uri": "https://localhost:8080/",
          "height": 67
        }
      },
      "source": [
        "Prn3 = np.zeros([100,1])\n",
        "prob_nfpnf = np.zeros([100,1])\n",
        "for k in range(K):\n",
        "    Prn3 = multivariate_normal.pdf(nonfacetest_pca, bnf[k,:], cnf[k],allow_singular=True)\n",
        "    Prn3 = np.reshape(Prn3,(-1,1))\n",
        "    prob_nfpnf = prob_nfpnf + (anf[k] * Prn3)\n",
        "prob_nfpf = multivariate_normal.pdf(nonfacetest_pca, mean= mu_face, cov=var_face)\n",
        "P_nonface = prob_nfpnf / (prob_nfpnf+ np.reshape(prob_nfpf,(100,1)))\n",
        "True_negative = np.sum(P_nonface[:] >= 0.5)\n",
        "False_positive = 100 - True_negative\n",
        "\n",
        "\n",
        "fpr =  False_positive/ (False_positive + True_negative)\n",
        "fnr =  False_negative / (False_negative + True_positive)\n",
        "miss = ( False_positive+ False_negative) / 200\n",
        "\n",
        "print('False Positive Rate:',fpr)\n",
        "print('False Negative Rate:',fnr)\n",
        "print('Miss Classification Rate:', miss)"
      ],
      "execution_count": 153,
      "outputs": [
        {
          "output_type": "stream",
          "text": [
            "False Positive Rate: 0.3\n",
            "False Negative Rate: 0.36\n",
            "Miss Classification Rate: 0.33\n"
          ],
          "name": "stdout"
        }
      ]
    },
    {
      "cell_type": "code",
      "metadata": {
        "id": "ZC4MeDzWkJo5",
        "colab_type": "code",
        "colab": {
          "base_uri": "https://localhost:8080/",
          "height": 50
        },
        "outputId": "90c1a4d6-58c1-43fb-fad0-b7d5b983140a"
      },
      "source": [
        "a = 0\n",
        "for i in P_face:\n",
        "  if i>=0.5:\n",
        "    #print(i)\n",
        "    a= a+1\n",
        "print(a)\n",
        "a = 0\n",
        "for i in P_nonface:\n",
        "  if i>=0.5:\n",
        "    #print(i)\n",
        "    a= a+1\n",
        "print(a)"
      ],
      "execution_count": 154,
      "outputs": [
        {
          "output_type": "stream",
          "text": [
            "64\n",
            "70\n"
          ],
          "name": "stdout"
        }
      ]
    },
    {
      "cell_type": "code",
      "metadata": {
        "id": "byxoqjn2N39Q",
        "colab_type": "code",
        "colab": {}
      },
      "source": [
        "labels = np.array([np.ones(100),np.zeros(100)])\n",
        "labels = np.reshape(labels,(200))\n",
        "X_test_roc = np.array([facetest_pca,nonfacetest_pca])\n",
        "X_test_roc = np.reshape(X_test_roc,(200,size))"
      ],
      "execution_count": 0,
      "outputs": []
    },
    {
      "cell_type": "code",
      "metadata": {
        "id": "yz1YsQoGPc7k",
        "colab_type": "code",
        "colab": {}
      },
      "source": [
        "Prn = np.zeros([200,1])\n",
        "sum1 = np.zeros([200,1])\n",
        "for k in range(K):\n",
        "    Prn = multivariate_normal.pdf(X_test_roc, bf[k,:], cf[k],allow_singular=True)\n",
        "    Prn = np.reshape(Prn,(-1,1))\n",
        "    sum1 = sum1 + (af[k] * Prn)\n",
        "\n",
        "sum2 = multivariate_normal.pdf(X_test_roc, mean=mu_nonface, cov=var_nonface,allow_singular=True)\n",
        "P_Roc = sum1 / (sum1+ np.reshape(sum2,(200,1)))"
      ],
      "execution_count": 0,
      "outputs": []
    },
    {
      "cell_type": "code",
      "metadata": {
        "id": "FadYajdF5ZaQ",
        "colab_type": "code",
        "colab": {
          "base_uri": "https://localhost:8080/",
          "height": 312
        },
        "outputId": "68fce2af-ba11-4d45-b6ad-5260faafef9a"
      },
      "source": [
        "fpr, tpr, thresholds = metrics.roc_curve(labels,P_Roc)\n",
        "roc_auc = roc_auc_score(labels,P_Roc)\n",
        "plt.plot(fpr, tpr,color='darkorange',lw=2, label='ROC curve (area = %0.2f)' % roc_auc)\n",
        "plt.plot([0, 1], [0, 1], color='navy', lw=2, linestyle='--')  \n",
        "plt.xlabel('False Positive Rate')\n",
        "plt.ylabel('True Positive Rate')\n",
        "plt.title('ROC for Mixture of Gaussian Model')\n",
        "plt.legend(loc=\"lower right\")"
      ],
      "execution_count": 157,
      "outputs": [
        {
          "output_type": "execute_result",
          "data": {
            "text/plain": [
              "<matplotlib.legend.Legend at 0x7f368b4b0828>"
            ]
          },
          "metadata": {
            "tags": []
          },
          "execution_count": 157
        },
        {
          "output_type": "display_data",
          "data": {
            "image/png": "[encoded data removed]",
            "text/plain": [
              "<Figure size 432x288 with 1 Axes>"
            ]
          },
          "metadata": {
            "tags": []
          }
        }
      ]
    },
    {
      "cell_type": "code",
      "metadata": {
        "id": "CTvfufqrqdct",
        "colab_type": "code",
        "colab": {
          "base_uri": "https://localhost:8080/",
          "height": 266
        },
        "outputId": "8fc14f76-99a2-494e-f18b-9d48dee5df98"
      },
      "source": [
        "for i in range(K):\n",
        "  mean_disp = np.dot( pcaft.components_.T,bf[k]) + pcaft.mean_\n",
        "  mean_disp_new = np.array(mean_disp).astype('uint8')\n",
        "  mean_disp_new = np.reshape(mean_disp_new,(20,20,3))\n",
        "  plt.imshow(mean_disp_new)\n",
        "  plt.savefig('mean'+str(i))\n",
        "  covariances = np.diag(np.diag(cf[k]))\n",
        "  plt.imshow(covariances)\n",
        "  plt.savefig('covariance'+str(i))"
      ],
      "execution_count": 160,
      "outputs": [
        {
          "output_type": "display_data",
          "data": {
            "image/png": "[encoded data removed]",
            "text/plain": [
              "<Figure size 432x288 with 1 Axes>"
            ]
          },
          "metadata": {
            "tags": []
          }
        }
      ]
    },
    {
      "cell_type": "code",
      "metadata": {
        "id": "ze62DOYxPwMp",
        "colab_type": "code",
        "colab": {
          "base_uri": "https://localhost:8080/",
          "height": 266
        },
        "outputId": "0ad44ba2-7bc8-47c4-88d5-da445a34fbd5"
      },
      "source": [
        "for i in range(K):\n",
        "  mean_disp = np.dot( pcanft.components_.T,bnf[k]) + pcanft.mean_\n",
        "  mean_disp_new = np.array(mean_disp).astype('uint8')\n",
        "  mean_disp_new = np.reshape(mean_disp_new,(20,20,3))\n",
        "  plt.imshow(mean_disp_new)\n",
        "  plt.savefig('meannf'+str(i))\n",
        "  covariances = np.diag(np.diag(cnf[k]))\n",
        "  plt.imshow(covariances)\n",
        "  plt.savefig('covariancenf'+str(i))"
      ],
      "execution_count": 162,
      "outputs": [
        {
          "output_type": "display_data",
          "data": {
            "image/png": "[encoded data removed]",
            "text/plain": [
              "<Figure size 432x288 with 1 Axes>"
            ]
          },
          "metadata": {
            "tags": []
          }
        }
      ]
    },
    {
      "cell_type": "code",
      "metadata": {
        "id": "aAVLyagPP-Oi",
        "colab_type": "code",
        "colab": {}
      },
      "source": [
        ""
      ],
      "execution_count": 0,
      "outputs": []
    },
    {
      "cell_type": "code",
      "metadata": {
        "id": "pvdkSkcuDeOG",
        "colab_type": "code",
        "colab": {}
      },
      "source": [
        ""
      ],
      "execution_count": 0,
      "outputs": []
    }
  ]
}