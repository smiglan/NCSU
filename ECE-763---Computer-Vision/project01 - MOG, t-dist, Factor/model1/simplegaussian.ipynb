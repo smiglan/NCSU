{
  "nbformat": 4,
  "nbformat_minor": 0,
  "metadata": {
    "colab": {
      "name": "simplegaussian.ipynb",
      "provenance": []
    },
    "kernelspec": {
      "name": "python3",
      "display_name": "Python 3"
    }
  },
  "cells": [
    {
      "cell_type": "code",
      "metadata": {
        "id": "vg4noPTFAlnx",
        "colab_type": "code",
        "outputId": "255fe0e5-3d4a-4b64-f309-67f2f0759941",
        "colab": {
          "base_uri": "https://localhost:8080/",
          "height": 34
        }
      },
      "source": [
        "from google.colab import drive\n",
        "drive.mount('/content/gdrive', force_remount=True)\n",
        "path = '/content/gdrive/My Drive/ECE763/'\n",
        "import numpy as np\n",
        "import cv2\n",
        "from scipy.stats import multivariate_normal\n",
        "from scipy.special import psi, gammaln\n",
        "from scipy.optimize import fminbound\n",
        "from sklearn.decomposition import PCA\n",
        "import matplotlib.pyplot as plt\n",
        "from sklearn.metrics import roc_auc_score\n",
        "from sklearn import metrics\n",
        "from sklearn.preprocessing import StandardScaler\n",
        "\n",
        "import random\n",
        "np.random.seed(2)\n",
        "facetrain= np.load(path+'MyData4/ftrain.npy')\n",
        "nonfacetrain= np.load(path+'MyData4/nftrain.npy')\n",
        "facetest= np.load(path+'MyData4/ftest.npy')\n",
        "nonfacetest= np.load(path+'MyData4/nftest.npy')\n"
      ],
      "execution_count": 0,
      "outputs": [
        {
          "output_type": "stream",
          "text": [
            "Mounted at /content/gdrive\n"
          ],
          "name": "stdout"
        }
      ]
    },
    {
      "cell_type": "code",
      "metadata": {
        "id": "-YfPjR6eu5pC",
        "colab_type": "code",
        "colab": {}
      },
      "source": [
        "def apply_pca_and_standardize(data,size):\n",
        "    pca = PCA(n_components=size)\n",
        "    pca.fit(data)\n",
        "    data_pca = pca.transform(data)\n",
        "    scaler = StandardScaler()\n",
        "    scaler.fit(data_pca)\n",
        "    data_std = scaler.transform(data_pca)\n",
        "    return data_std,pca"
      ],
      "execution_count": 0,
      "outputs": []
    },
    {
      "cell_type": "code",
      "metadata": {
        "id": "-fKU-kM3u9Md",
        "colab_type": "code",
        "colab": {}
      },
      "source": [
        "size = 30\n",
        "# pca_face = PCA(size)\n",
        "facetrain_pca,pcaft = apply_pca_and_standardize(facetrain,size) \n",
        "nonfacetrain_pca,pcanft = apply_pca_and_standardize(nonfacetrain,size) \n",
        "facetest_pca,pcaftest  = apply_pca_and_standardize(facetest,size)\n",
        "nonfacetest_pca,pcaftrain  = apply_pca_and_standardize(nonfacetest,size)"
      ],
      "execution_count": 0,
      "outputs": []
    },
    {
      "cell_type": "code",
      "metadata": {
        "id": "v99dI0YxpEgg",
        "colab_type": "code",
        "colab": {}
      },
      "source": [
        "#plt.imshow(np.reshape(nonfacetrain[105],(20,20,3)).astype('uint8'))"
      ],
      "execution_count": 0,
      "outputs": []
    },
    {
      "cell_type": "code",
      "metadata": {
        "id": "VE-lrIs7NFd4",
        "colab_type": "code",
        "cellView": "both",
        "colab": {}
      },
      "source": [
        "\n",
        "facetrain_pca = facetrain\n",
        "nonfacetrain_pca = nonfacetrain\n",
        "facetest_pca = facetest\n",
        "nonfacetest_pca = nonfacetest"
      ],
      "execution_count": 0,
      "outputs": []
    },
    {
      "cell_type": "code",
      "metadata": {
        "id": "G-JC9C28mrhn",
        "colab_type": "code",
        "colab": {}
      },
      "source": [
        "mu_face    = facetrain_pca.mean(axis=0)\n",
        "mu_nonface = nonfacetrain_pca.mean(axis=0)\n",
        "var_face = np.cov(facetrain_pca, rowvar=False, bias=1, ddof=None)\n",
        "var_face = np.diagonal(var_face)\n",
        "var_face = np.diag(var_face,0)\n",
        "var_nonface = np.cov(nonfacetrain_pca, rowvar=False, bias=1, ddof=None)\n",
        "var_nonface = np.diagonal(var_nonface)\n",
        "var_nonface = np.diag(var_nonface,0)"
      ],
      "execution_count": 0,
      "outputs": []
    },
    {
      "cell_type": "code",
      "metadata": {
        "id": "m_TErEom51z3",
        "colab_type": "code",
        "colab": {}
      },
      "source": [
        "def plotmu(mean,dimm):\n",
        "  mu = mean / np.max(mean)\n",
        "  mu_mat = np.reshape(mu,(dimm,dimm,3))\n",
        "  r = 200.0 / mu_mat.shape[1]\n",
        "  dim = (200, int(mu_mat.shape[0] * r))\n",
        "  resized = cv2.resize(mu_mat, dim, interpolation = cv2.INTER_AREA)\n",
        "  plt.imshow(resized)\n",
        "def plotsig(sigma,dimm):\n",
        "  sigma = np.diag(sigma)\n",
        "  sig = sigma / np.max(sigma)\n",
        "  sig_mat = np.reshape((sig),(dimm,dimm,3))\n",
        "  r = 200.0 / sig_mat.shape[1]\n",
        "  dim = (200, int(sig_mat.shape[0] * r))\n",
        "  resized = cv2.resize(sig_mat, dim, interpolation = cv2.INTER_AREA)\n",
        "  plt.imshow(resized)\n"
      ],
      "execution_count": 0,
      "outputs": []
    },
    {
      "cell_type": "code",
      "metadata": {
        "id": "3PiEtGWu_VVx",
        "colab_type": "code",
        "outputId": "9bb327a3-94bd-4872-dbce-160538d45c0f",
        "colab": {
          "base_uri": "https://localhost:8080/",
          "height": 269
        }
      },
      "source": [
        "plotmu(mu_face,20)\n"
      ],
      "execution_count": 0,
      "outputs": [
        {
          "output_type": "display_data",
          "data": {
            "image/png": "[encoded data removed]",
            "text/plain": [
              "<Figure size 432x288 with 1 Axes>"
            ]
          },
          "metadata": {
            "tags": []
          }
        }
      ]
    },
    {
      "cell_type": "code",
      "metadata": {
        "id": "uQnPZm4y_ZKK",
        "colab_type": "code",
        "outputId": "e8a588a0-bf6c-4bc1-ec7a-05406c8aafc7",
        "colab": {
          "base_uri": "https://localhost:8080/",
          "height": 269
        }
      },
      "source": [
        "plotmu(mu_nonface,20)\n"
      ],
      "execution_count": 0,
      "outputs": [
        {
          "output_type": "display_data",
          "data": {
            "image/png": "[encoded data removed]",
            "text/plain": [
              "<Figure size 432x288 with 1 Axes>"
            ]
          },
          "metadata": {
            "tags": []
          }
        }
      ]
    },
    {
      "cell_type": "code",
      "metadata": {
        "id": "4YUQvoVw_aW4",
        "colab_type": "code",
        "outputId": "7e1dac74-67ef-4a69-813a-d1ee59583076",
        "colab": {
          "base_uri": "https://localhost:8080/",
          "height": 269
        }
      },
      "source": [
        "plotsig(var_face,20)"
      ],
      "execution_count": 0,
      "outputs": [
        {
          "output_type": "display_data",
          "data": {
            "image/png": "[encoded data removed]",
            "text/plain": [
              "<Figure size 432x288 with 1 Axes>"
            ]
          },
          "metadata": {
            "tags": []
          }
        }
      ]
    },
    {
      "cell_type": "code",
      "metadata": {
        "id": "f19_jajR_cI6",
        "colab_type": "code",
        "outputId": "a6a0b1f3-8c72-4561-a7b6-44f3628b1a58",
        "colab": {
          "base_uri": "https://localhost:8080/",
          "height": 269
        }
      },
      "source": [
        "plotsig(var_nonface,20)"
      ],
      "execution_count": 0,
      "outputs": [
        {
          "output_type": "display_data",
          "data": {
            "image/png": "[encoded data removed]",
            "text/plain": [
              "<Figure size 432x288 with 1 Axes>"
            ]
          },
          "metadata": {
            "tags": []
          }
        }
      ]
    },
    {
      "cell_type": "code",
      "metadata": {
        "id": "f4X-EQyV_j9j",
        "colab_type": "code",
        "colab": {}
      },
      "source": [
        "size = 30\n",
        "pca_face = PCA(size)\n",
        "facetrain_pca = pca_face.fit_transform(facetrain) \n",
        "nonfacetrain_pca = pca_face.fit_transform(nonfacetrain) \n",
        "facetest_pca  = pca_face.fit_transform(facetest)\n",
        "nonfacetest_pca  = pca_face.fit_transform(nonfacetest)\n",
        "mu_face    = facetrain_pca.mean(axis=0)\n",
        "mu_nonface = nonfacetrain_pca.mean(axis=0)\n",
        "var_face = np.cov(facetrain_pca, rowvar=False, bias=1, ddof=None)\n",
        "var_face = np.diagonal(var_face)\n",
        "var_face = np.diag(var_face,0)\n",
        "var_nonface = np.cov(nonfacetrain_pca, rowvar=False, bias=1, ddof=None)\n",
        "var_nonface = np.diagonal(var_nonface)\n",
        "var_nonface = np.diag(var_nonface,0)"
      ],
      "execution_count": 0,
      "outputs": []
    },
    {
      "cell_type": "code",
      "metadata": {
        "id": "_xPb2Qk-664L",
        "colab_type": "code",
        "outputId": "d6f26948-917f-41e9-8af0-3236082e4e92",
        "colab": {
          "base_uri": "https://localhost:8080/",
          "height": 67
        }
      },
      "source": [
        "prob_fpf = multivariate_normal.pdf(facetest_pca, mean=mu_face, cov=var_face,allow_singular=True)\n",
        "prob_fnpf = multivariate_normal.pdf(facetest_pca, mean=mu_nonface, cov=var_nonface,allow_singular=True)\n",
        "total1 = prob_fpf + prob_fnpf\n",
        "Pr1 = prob_fpf / total1\n",
        "True_positive = np.sum(Pr1[:] >= 0.5)\n",
        "False_negative = 100 - True_positive \n",
        "\n",
        "prob_nfpf = multivariate_normal.pdf(nonfacetest_pca, mean=mu_face, cov=var_face,allow_singular=True)\n",
        "prob_nfnpf = multivariate_normal.pdf(nonfacetest_pca, mean=mu_nonface, cov=var_nonface,allow_singular=True)\n",
        "total2 = prob_nfpf + prob_nfnpf\n",
        "Pr2 = prob_nfnpf / total2\n",
        "True_negative = np.sum(Pr2[:] >= 0.5)\n",
        "False_positive = 100 - True_negative\n",
        "\n",
        "fpr =  False_positive/ (False_positive + True_negative)\n",
        "fnr =  False_negative / (False_negative + True_positive)\n",
        "miss = ( False_positive+ False_negative) / 200\n",
        "\n",
        "print('False Positive Rate:',fpr)\n",
        "print('False Negative Rate:',fnr)\n",
        "print('Miss Classification Rate:', miss)"
      ],
      "execution_count": 0,
      "outputs": [
        {
          "output_type": "stream",
          "text": [
            "False Positive Rate: 0.44\n",
            "False Negative Rate: 0.41\n",
            "Miss Classification Rate: 0.425\n"
          ],
          "name": "stdout"
        }
      ]
    },
    {
      "cell_type": "code",
      "metadata": {
        "id": "byxoqjn2N39Q",
        "colab_type": "code",
        "colab": {}
      },
      "source": [
        "labels = np.array([np.ones(100),np.zeros(100)])\n",
        "labels = np.reshape(labels,(200))\n",
        "X_test_roc = np.array([facetest_pca,nonfacetest_pca])\n",
        "X_test_roc = np.reshape(X_test_roc,(200,size))"
      ],
      "execution_count": 0,
      "outputs": []
    },
    {
      "cell_type": "code",
      "metadata": {
        "id": "yz1YsQoGPc7k",
        "colab_type": "code",
        "colab": {}
      },
      "source": [
        "prob_fpf_Roc = multivariate_normal.pdf(X_test_roc, mean=mu_face, cov=var_face)\n",
        "prob_fnpf_Roc = multivariate_normal.pdf(X_test_roc, mean=mu_nonface, cov=var_nonface)\n",
        "total_Roc = prob_fpf_Roc + prob_fnpf_Roc\n",
        "P_Roc = prob_fpf_Roc / total_Roc\n"
      ],
      "execution_count": 0,
      "outputs": []
    },
    {
      "cell_type": "code",
      "metadata": {
        "id": "FadYajdF5ZaQ",
        "colab_type": "code",
        "outputId": "4a5c3adb-c138-43b3-dd5c-ce0127d62df2",
        "colab": {
          "base_uri": "https://localhost:8080/",
          "height": 312
        }
      },
      "source": [
        "fpr, tpr, thresholds = metrics.roc_curve(labels,P_Roc)\n",
        "roc_auc = roc_auc_score(labels,P_Roc)\n",
        "plt.plot(fpr, tpr,color='darkorange',lw=2, label='ROC curve (area = %0.2f)' % roc_auc)\n",
        "plt.plot([0, 1], [0, 1], color='navy', lw=2, linestyle='--')  \n",
        "plt.xlabel('False Positive Rate')\n",
        "plt.ylabel('True Positive Rate')\n",
        "plt.title('ROC for Simple Gaussian Model')\n",
        "plt.legend(loc=\"lower right\")"
      ],
      "execution_count": 0,
      "outputs": [
        {
          "output_type": "execute_result",
          "data": {
            "text/plain": [
              "<matplotlib.legend.Legend at 0x7f90d00cada0>"
            ]
          },
          "metadata": {
            "tags": []
          },
          "execution_count": 19
        },
        {
          "output_type": "display_data",
          "data": {
            "image/png": "[encoded data removed]",
            "text/plain": [
              "<Figure size 432x288 with 1 Axes>"
            ]
          },
          "metadata": {
            "tags": []
          }
        }
      ]
    },
    {
      "cell_type": "code",
      "metadata": {
        "id": "2QgurCnRJtre",
        "colab_type": "code",
        "colab": {}
      },
      "source": [
        ""
      ],
      "execution_count": 0,
      "outputs": []
    },
    {
      "cell_type": "code",
      "metadata": {
        "id": "AK6dJoqcBsFA",
        "colab_type": "code",
        "colab": {}
      },
      "source": [
        "# facetraing = []\n",
        "# nonfacetraing = [] \n",
        "# facetestg = []\n",
        "# nonfacetestg = []\n",
        "# for i in range(1000):\n",
        "#   image = np.reshape(facetrain[i],(20,20,3))\n",
        "#   gray = cv2.cvtColor(image.astype('uint8'), cv2.COLOR_RGB2GRAY)\n",
        "#   facetraing.append(gray)\n",
        "#   image = np.reshape(nonfacetrain[i],(20,20,3))\n",
        "#   gray = cv2.cvtColor(image.astype('uint8'), cv2.COLOR_RGB2GRAY)\n",
        "#   nonfacetraing.append(gray)\n",
        "# for i in range(100):\n",
        "#   image = np.reshape(facetest[i],(20,20,3))\n",
        "#   gray = cv2.cvtColor(image.astype('uint8'), cv2.COLOR_RGB2GRAY)\n",
        "#   facetestg.append(gray)\n",
        "#   image = np.reshape(nonfacetest[i],(20,20,3))\n",
        "#   gray = cv2.cvtColor(image.astype('uint8'), cv2.COLOR_RGB2GRAY)\n",
        "#   nonfacetraing.append(gray)\n",
        "# facetraing = np.array(facetraing)\n",
        "# nonfacetraing = np.array(nonfacetraing)\n",
        "# facetestg = np.array(facetestg)\n",
        "# nonfacetestg = np.array(nonfacetestg)"
      ],
      "execution_count": 0,
      "outputs": []
    },
    {
      "cell_type": "code",
      "metadata": {
        "id": "bHray1NBCQe7",
        "colab_type": "code",
        "colab": {}
      },
      "source": [
        "# path = '/content/gdrive/My Drive/ECE763/'\n",
        "# np.save(path+'MyData4/ftraing',facetraing)\n",
        "# np.save(path+'MyData4/nftraing',nonfacetraing)\n"
      ],
      "execution_count": 0,
      "outputs": []
    }
  ]
}