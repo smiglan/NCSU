{
  "nbformat": 4,
  "nbformat_minor": 0,
  "metadata": {
    "colab": {
      "name": "Copy of transferlearning_2711second.ipynb",
      "provenance": []
    },
    "kernelspec": {
      "name": "python3",
      "display_name": "Python 3"
    },
    "accelerator": "GPU"
  },
  "cells": [
    {
      "cell_type": "code",
      "metadata": {
        "id": "RquWSMu6-BAG"
      },
      "source": [
        "from keras import applications\n",
        "from keras.preprocessing.image import ImageDataGenerator\n",
        "from keras import optimizers\n",
        "from keras.models import Sequential, Model \n",
        "from keras.layers import Dropout, Flatten, Dense, GlobalAveragePooling2D\n",
        "from keras import backend as k \n",
        "from keras.callbacks import ModelCheckpoint, LearningRateScheduler, TensorBoard, EarlyStopping"
      ],
      "execution_count": null,
      "outputs": []
    },
    {
      "cell_type": "code",
      "metadata": {
        "id": "LOWTyLLi-gif",
        "outputId": "4385bc73-ca49-4811-9e1b-db7a59fc44b8",
        "colab": {
          "base_uri": "https://localhost:8080/",
          "height": 35
        }
      },
      "source": [
        "from google.colab import drive\n",
        "\n",
        "path = '/content/gdrive/My Drive/data/'\n",
        "\n",
        "drive.mount('/content/gdrive', force_remount=True)"
      ],
      "execution_count": null,
      "outputs": [
        {
          "output_type": "stream",
          "text": [
            "Mounted at /content/gdrive\n"
          ],
          "name": "stdout"
        }
      ]
    },
    {
      "cell_type": "code",
      "metadata": {
        "id": "NfeOntie-X53"
      },
      "source": [
        "img_width, img_height = 128, 128\n",
        "train_data_dir = path+'train'\n",
        "validation_data_dir = path+'val'\n",
        "nb_train_samples = 702\n",
        "nb_validation_samples = 194\n",
        "batch_size = 16\n",
        "epochs = 20"
      ],
      "execution_count": null,
      "outputs": []
    },
    {
      "cell_type": "code",
      "metadata": {
        "id": "ZYUibvqn-Psy"
      },
      "source": [
        "model = applications.VGG19(weights = \"imagenet\", include_top=False, input_shape = (img_width, img_height, 3))"
      ],
      "execution_count": null,
      "outputs": []
    },
    {
      "cell_type": "code",
      "metadata": {
        "id": "b2vNsYCT_RZ1",
        "outputId": "d5202b94-e5fb-451a-9816-87fa74070732",
        "colab": {
          "base_uri": "https://localhost:8080/",
          "height": 35
        }
      },
      "source": [
        "i = 0\n",
        "for layer in model.layers[:10]:\n",
        "    layer.trainable = False\n",
        "    i+=1\n",
        "print(i)\n",
        "# the model has 22 layers"
      ],
      "execution_count": null,
      "outputs": [
        {
          "output_type": "stream",
          "text": [
            "10\n"
          ],
          "name": "stdout"
        }
      ]
    },
    {
      "cell_type": "code",
      "metadata": {
        "id": "E7UxGtXh_VdP",
        "outputId": "8dbdba8c-26aa-440d-ff0b-640f1fe276f9",
        "colab": {
          "base_uri": "https://localhost:8080/",
          "height": 73
        }
      },
      "source": [
        "from keras.layers import Input,Conv2D,MaxPooling2D\n",
        "x = model.output\n",
        "x = Conv2D(64, (3, 3), activation='relu', padding='same', name='block1_conv100')(x)\n",
        "x = Conv2D(64, (3, 3), activation='relu', padding='same', name='block1_conv150')(x)\n",
        "x = Flatten()(x)\n",
        "x = Dense(512, activation=\"relu\")(x)\n",
        "x = Dropout(0.4)(x)\n",
        "x = Dense(512, activation=\"relu\")(x)\n",
        "x = Dropout(0.4)(x)\n",
        "predictions = Dense(5, activation=\"softmax\")(x)\n",
        "\n",
        "# creating the final model \n",
        "model_final = Model(input = model.input, output = predictions)\n"
      ],
      "execution_count": null,
      "outputs": [
        {
          "output_type": "stream",
          "text": [
            "/usr/local/lib/python3.6/dist-packages/ipykernel_launcher.py:13: UserWarning: Update your `Model` call to the Keras 2 API: `Model(inputs=Tensor(\"in..., outputs=Tensor(\"de...)`\n",
            "  del sys.path[0]\n"
          ],
          "name": "stderr"
        }
      ]
    },
    {
      "cell_type": "code",
      "metadata": {
        "id": "bW6djL-ZsAxT",
        "outputId": "7fc8fb61-0a92-4c37-a8d1-4d33e60a282d",
        "colab": {
          "base_uri": "https://localhost:8080/",
          "height": 1000
        }
      },
      "source": [
        "model_final.summary()"
      ],
      "execution_count": null,
      "outputs": [
        {
          "output_type": "stream",
          "text": [
            "Model: \"model_2\"\n",
            "_________________________________________________________________\n",
            "Layer (type)                 Output Shape              Param #   \n",
            "=================================================================\n",
            "input_2 (InputLayer)         (None, 128, 128, 3)       0         \n",
            "_________________________________________________________________\n",
            "block1_conv1 (Conv2D)        (None, 128, 128, 64)      1792      \n",
            "_________________________________________________________________\n",
            "block1_conv2 (Conv2D)        (None, 128, 128, 64)      36928     \n",
            "_________________________________________________________________\n",
            "block1_pool (MaxPooling2D)   (None, 64, 64, 64)        0         \n",
            "_________________________________________________________________\n",
            "block2_conv1 (Conv2D)        (None, 64, 64, 128)       73856     \n",
            "_________________________________________________________________\n",
            "block2_conv2 (Conv2D)        (None, 64, 64, 128)       147584    \n",
            "_________________________________________________________________\n",
            "block2_pool (MaxPooling2D)   (None, 32, 32, 128)       0         \n",
            "_________________________________________________________________\n",
            "block3_conv1 (Conv2D)        (None, 32, 32, 256)       295168    \n",
            "_________________________________________________________________\n",
            "block3_conv2 (Conv2D)        (None, 32, 32, 256)       590080    \n",
            "_________________________________________________________________\n",
            "block3_conv3 (Conv2D)        (None, 32, 32, 256)       590080    \n",
            "_________________________________________________________________\n",
            "block3_conv4 (Conv2D)        (None, 32, 32, 256)       590080    \n",
            "_________________________________________________________________\n",
            "block3_pool (MaxPooling2D)   (None, 16, 16, 256)       0         \n",
            "_________________________________________________________________\n",
            "block4_conv1 (Conv2D)        (None, 16, 16, 512)       1180160   \n",
            "_________________________________________________________________\n",
            "block4_conv2 (Conv2D)        (None, 16, 16, 512)       2359808   \n",
            "_________________________________________________________________\n",
            "block4_conv3 (Conv2D)        (None, 16, 16, 512)       2359808   \n",
            "_________________________________________________________________\n",
            "block4_conv4 (Conv2D)        (None, 16, 16, 512)       2359808   \n",
            "_________________________________________________________________\n",
            "block4_pool (MaxPooling2D)   (None, 8, 8, 512)         0         \n",
            "_________________________________________________________________\n",
            "block5_conv1 (Conv2D)        (None, 8, 8, 512)         2359808   \n",
            "_________________________________________________________________\n",
            "block5_conv2 (Conv2D)        (None, 8, 8, 512)         2359808   \n",
            "_________________________________________________________________\n",
            "block5_conv3 (Conv2D)        (None, 8, 8, 512)         2359808   \n",
            "_________________________________________________________________\n",
            "block5_conv4 (Conv2D)        (None, 8, 8, 512)         2359808   \n",
            "_________________________________________________________________\n",
            "block5_pool (MaxPooling2D)   (None, 4, 4, 512)         0         \n",
            "_________________________________________________________________\n",
            "block1_conv100 (Conv2D)      (None, 4, 4, 64)          294976    \n",
            "_________________________________________________________________\n",
            "block1_conv150 (Conv2D)      (None, 4, 4, 64)          36928     \n",
            "_________________________________________________________________\n",
            "flatten_2 (Flatten)          (None, 1024)              0         \n",
            "_________________________________________________________________\n",
            "dense_4 (Dense)              (None, 512)               524800    \n",
            "_________________________________________________________________\n",
            "dropout_3 (Dropout)          (None, 512)               0         \n",
            "_________________________________________________________________\n",
            "dense_5 (Dense)              (None, 512)               262656    \n",
            "_________________________________________________________________\n",
            "dropout_4 (Dropout)          (None, 512)               0         \n",
            "_________________________________________________________________\n",
            "dense_6 (Dense)              (None, 5)                 2565      \n",
            "=================================================================\n",
            "Total params: 21,146,309\n",
            "Trainable params: 19,410,821\n",
            "Non-trainable params: 1,735,488\n",
            "_________________________________________________________________\n"
          ],
          "name": "stdout"
        }
      ]
    },
    {
      "cell_type": "code",
      "metadata": {
        "id": "7ChKW54-_ZIg",
        "outputId": "65576ddd-96e7-4380-a5ba-f25400c845d6",
        "colab": {
          "base_uri": "https://localhost:8080/",
          "height": 53
        }
      },
      "source": [
        "train_datagen = ImageDataGenerator(\n",
        "rescale = 1./255,\n",
        "horizontal_flip = True,\n",
        "fill_mode = \"nearest\",\n",
        "zoom_range = 0.3,\n",
        "width_shift_range = 0.3,\n",
        "height_shift_range=0.3,\n",
        "rotation_range=30)\n",
        "\n",
        "\n",
        "test_datagen = ImageDataGenerator(\n",
        "rescale = 1./255,\n",
        "horizontal_flip = True,\n",
        "fill_mode = \"nearest\",\n",
        "zoom_range = 0.3,\n",
        "width_shift_range = 0.3,\n",
        "height_shift_range=0.3,\n",
        "rotation_range=30)\n",
        "\n",
        "train_generator = train_datagen.flow_from_directory(\n",
        "train_data_dir,\n",
        "target_size = (img_height, img_width),\n",
        "batch_size = batch_size, \n",
        "class_mode = \"categorical\")\n",
        "\n",
        "validation_generator = test_datagen.flow_from_directory(\n",
        "validation_data_dir,\n",
        "target_size = (img_height, img_width),\n",
        "class_mode = \"categorical\")\n"
      ],
      "execution_count": null,
      "outputs": [
        {
          "output_type": "stream",
          "text": [
            "Found 707 images belonging to 5 classes.\n",
            "Found 194 images belonging to 5 classes.\n"
          ],
          "name": "stdout"
        }
      ]
    },
    {
      "cell_type": "code",
      "metadata": {
        "id": "PEj7g2OEj6-Q"
      },
      "source": [
        "from tensorflow.keras import optimizers\n",
        "\n",
        "# adam = optimizers.Adam(lr=0.00146, beta_1=0.9, beta_2=0.999)\n",
        "# model_final.compile(loss=\"categorical_crossentropy\", optimizer='adam', metrics=['accuracy'])\n",
        "\n",
        "model_final.compile(loss='categorical_crossentropy',optimizer='Adam',metrics=['accuracy'])"
      ],
      "execution_count": null,
      "outputs": []
    },
    {
      "cell_type": "code",
      "metadata": {
        "id": "8mfJ9v0w_fS_"
      },
      "source": [
        "# Save the model according to the conditions  \n",
        "checkpoint = ModelCheckpoint(\"vgg16_1.h5\", monitor='val_acc', verbose=1, save_best_only=True, save_weights_only=False, mode='auto', period=1)\n",
        "early = EarlyStopping(monitor='val_acc', min_delta=0, patience=10, verbose=1, mode='auto')\n",
        "\n",
        "\n",
        "# Train the model \n",
        "history=model_final.fit_generator(\n",
        "        train_generator,\n",
        "        samples_per_epoch = nb_train_samples,\n",
        "        epochs = epochs,\n",
        "        validation_data = validation_generator,\n",
        "        nb_val_samples = nb_validation_samples,\n",
        "        callbacks = [checkpoint, early])\n"
      ],
      "execution_count": null,
      "outputs": []
    },
    {
      "cell_type": "code",
      "metadata": {
        "id": "a5XQBqg0_izf"
      },
      "source": [
        "import matplotlib.pyplot as plt\n",
        "plt.plot(history.history['acc'])\n",
        "plt.plot(history.history['val_acc'])\n",
        "plt.title('model accuracy')\n",
        "plt.ylabel('accuracy')\n",
        "plt.xlabel('epoch')\n",
        "plt.legend(['train', 'val'], loc='upper left')\n",
        "plt.show()\n",
        "# summarize history for loss\n",
        "plt.plot(history.history['loss'])\n",
        "plt.plot(history.history['val_loss'])\n",
        "plt.title('model loss')\n",
        "plt.ylabel('loss')\n",
        "plt.xlabel('epoch')\n",
        "plt.legend(['train', 'val'], loc='upper left')\n",
        "plt.show()"
      ],
      "execution_count": null,
      "outputs": []
    },
    {
      "cell_type": "code",
      "metadata": {
        "id": "GGbJ3-6mnbEG"
      },
      "source": [
        "def network(num_layers, dropout, filter, kernel, lear_rate, dense):\n",
        "\tfor layer in model.layers[:num_layers]:\n",
        "\t\tlayer.trainable = False\n",
        "\n",
        "\tx = model.output\n",
        "\tx = Conv2D(filter, (kernel, kernel), activation='relu', padding='same', name='block1_conv100')(x)\n",
        "\tx = Conv2D(filter, (kernel, kernel), activation='relu', padding='same', name='block1_conv150')(x)\n",
        "\tx = Flatten()(x)\n",
        "\tx = Dense(dense, activation=\"relu\")(x)\n",
        "\tx = Dropout(dropout)(x)\n",
        "\tx = Dense(dense, activation=\"relu\")(x)\n",
        "\tx = Dropout(dropout)(x)\n",
        "\tpredictions = Dense(5, activation=\"softmax\")(x)from keras.layers import Input,Conv2D,MaxPooling2D\n",
        "x = model.output\n",
        "x = Conv2D(64, (3, 3), activation='relu', padding='same', name='block1_conv100')(x)\n",
        "x = Conv2D(64, (3, 3), activation='relu', padding='same', name='block1_conv150')(x)\n",
        "x = Flatten()(x)\n",
        "x = Dense(512, activation=\"relu\")(x)\n",
        "x = Dropout(0.4)(x)\n",
        "x = Dense(512, activation=\"relu\")(x)\n",
        "x = Dropout(0.4)(x)\n",
        "predictions = Dense(5, activation=\"softmax\")(x)\n",
        "\n",
        "# creating the final model \n",
        "model_final = Model(input = model.input, output = predictions)\n",
        "\n",
        "\n",
        "\t# creating the final model \n",
        "\tmodel_final = Model(input = model.input, output = predictions)\n",
        "\n",
        "\ttrain_datagen = ImageDataGenerator(\n",
        "\trescale = 1./255,\n",
        "\thorizontal_flip = True,\n",
        "\tfill_mode = \"nearest\",\n",
        "\tzoom_range = 0.3,\n",
        "\twidth_shift_range = 0.3,\n",
        "\theight_shift_range=0.3,\n",
        "\trotation_range=30)\n",
        "\n",
        "\n",
        "\ttest_datagen = ImageDataGenerator(\n",
        "\trescale = 1./255,\n",
        "\thorizontal_flip = True,\n",
        "\tfill_mode = \"nearest\",\n",
        "\tzoom_range = 0.3,\n",
        "\twidth_shift_range = 0.3,\n",
        "\theight_shift_range=0.3,\n",
        "\trotation_range=30)\n",
        "\n",
        "\ttrain_generator = train_datagen.flow_from_directory(\n",
        "\ttrain_data_dir,\n",
        "\ttarget_size = (img_height, img_width),\n",
        "\tbatch_size = batch_size, \n",
        "\tclass_mode = \"categorical\")\n",
        "\n",
        "\tvalidation_generator = test_datagen.flow_from_directory(\n",
        "\tvalidation_data_dir,\n",
        "\ttarget_size = (img_height, img_width),\n",
        "\tclass_mode = \"categorical\")\n",
        "\n",
        "\tadam = optimizers.Adam(lr=lear_rate, beta_1=0.9, beta_2=0.999)\n",
        "\tmodel_final.compile(loss=\"categorical_crossentropy\", optimizer='adam', metrics=['accuracy'])\n",
        "\n",
        "\tcheckpoint = ModelCheckpoint(\"vgg16_1.h5\", monitor='val_acc', verbose=1, save_best_only=True, save_weights_only=False, mode='auto', period=1)\n",
        "\tearly = EarlyStopping(monitor='val_acc', min_delta=0, patience=10, verbose=1, mode='auto')\n",
        "\n",
        "\n",
        "# Train the model \n",
        "\thistory=model_final.fit_generator(\n",
        "\ttrain_generator,\n",
        "\tsamples_per_epoch = nb_train_samples,\n",
        "\tepochs = epochs,\n",
        "\tvalidation_data = validation_generator,\n",
        "\tnb_val_samples = nb_validation_samples,\n",
        "\tcallbacks = [checkpoint, early])\n",
        "\t\n",
        "\treturn history"
      ],
      "execution_count": null,
      "outputs": []
    },
    {
      "cell_type": "code",
      "metadata": {
        "id": "qFLe5Fk5pSsQ"
      },
      "source": [
        "num_layers=[5,7,9,11,13,15]\n",
        "#dropout = [0.3,0.4,0.5,0.6]\n",
        "#filter = [64,96]\n",
        "#kernel = [3,5,7]\n",
        "#learning rate = [0.001, 0.0012, 0.0014, 0.0016, 0.0018]\n",
        "#dense = [128, 256, 512]\n",
        "\n",
        "dropout_base = 0.3\n",
        "filter_base = 64\n",
        "kernel_base = 3\n",
        "lear_rate_base = 0.001\n",
        "dense_base = 128\n",
        "num_layers_base = 5\n",
        "\n",
        "\n",
        "\n",
        "hist =[]\n",
        "\n",
        "for i in num_layers:\n",
        "  hist.append(network(num_layers[i],dropout_base, filter_base, kernel_base, lear_rate_base, dense_base))\n",
        "  print(hist[i].history.keys())\n",
        "  # summarize history for accuracy\n",
        "  plt.plot(hist[i].history['acc'])\n",
        "  plt.plot(hist[i].history['val_acc'])\n",
        "  plt.title('model accuracy'+str(i))\n",
        "  plt.ylabel('accuracy')\n",
        "  plt.xlabel('epoch')\n",
        "  plt.legend(['train', 'val'], loc='upper left')\n",
        "  plt.show()\n",
        "  # summarize history for loss\n",
        "  plt.plot(hist[i].history['loss'])\n",
        "  plt.plot(hist[i].history['val_loss'])\n",
        "  plt.title('model loss'+str(i))\n",
        "  plt.ylabel('loss')\n",
        "  plt.xlabel('epoch')\n",
        "  plt.legend(['train', 'val'], loc='upper left')\n",
        "  plt.show()\n",
        "\n",
        "val_acc=[]\n",
        "for i in num_layers:\n",
        "  print(hist[i].history.values())\n",
        "  val_acc.append(hist[i].history['val_acc'][-1])\n",
        "  \n",
        "  \n",
        "print(val_acc)\n",
        "\n",
        "plt.plot(num_layers,val_acc)\n",
        "plt.title('num_lay vs. accuracy')\n",
        "plt.ylabel('acc')\n",
        "plt.xlabel('num_lay')\n",
        "plt.show()"
      ],
      "execution_count": null,
      "outputs": []
    },
    {
      "cell_type": "code",
      "metadata": {
        "id": "frZBYoe1z9Sv"
      },
      "source": [
        ""
      ],
      "execution_count": null,
      "outputs": []
    }
  ]
}